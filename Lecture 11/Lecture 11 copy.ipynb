{
 "cells": [
  {
   "attachments": {},
   "cell_type": "markdown",
   "metadata": {},
   "source": [
    "# <span style=\"color:darkblue\"> Lecture 11: Application 1 - Linear Regression </span>\n",
    "\n",
    "<font size = \"5\">\n",
    "\n",
    "We will fit statistical models to data\n",
    "\n",
    "- I will give an intro with minimal stats background\n",
    "- See the optional lecture file for advanced users\n",
    "\n",
    "The primary goal is to practice previous commands"
   ]
  },
  {
   "attachments": {},
   "cell_type": "markdown",
   "metadata": {},
   "source": [
    "# <span style=\"color:darkblue\"> I. Import Libraries </span>\n"
   ]
  },
  {
   "cell_type": "code",
   "execution_count": 1,
   "metadata": {},
   "outputs": [],
   "source": [
    "# The \"pandas\" library is used for processing datasets\n",
    "# The \"numpy\" is for numeric observations and random numbers\n",
    "# The \"matplotlib.pyplot\" library is for creating graphs\n",
    "\n",
    "import pandas as pd\n",
    "import numpy as np\n",
    "import matplotlib.pyplot as plt"
   ]
  },
  {
   "attachments": {},
   "cell_type": "markdown",
   "metadata": {},
   "source": [
    "<font size = \"5\">\n",
    "\n",
    "Install the \"statsmodels\" library\n",
    "- Run \"pip3 install statsmodels\" in the terminal\n",
    "- Automatically included in Anaconda"
   ]
  },
  {
   "cell_type": "code",
   "execution_count": 3,
   "metadata": {},
   "outputs": [],
   "source": [
    "# We will \"alias\" two sublibraries in \"statsmodels\"\n",
    "# \"statsmodels.formula.api\" contains functions to estimate models\n",
    "# \"statsmodels.api\" contains general-use statistical options\n",
    "\n",
    "import statsmodels.api as sm\n",
    "import statsmodels.formula.api as smf\n"
   ]
  },
  {
   "attachments": {},
   "cell_type": "markdown",
   "metadata": {},
   "source": [
    "# <span style=\"color:darkblue\"> II. Generate simulated Data </span>\n",
    "\n",
    "<font size = \"5\">\n",
    "\n",
    "Create an empty dataset"
   ]
  },
  {
   "cell_type": "code",
   "execution_count": 4,
   "metadata": {},
   "outputs": [],
   "source": [
    "dataset = pd.DataFrame([])"
   ]
  },
  {
   "attachments": {},
   "cell_type": "markdown",
   "metadata": {},
   "source": [
    "<font size = \"5\">\n",
    "\n",
    "Create two random variables of size ($n = 50$)"
   ]
  },
  {
   "cell_type": "code",
   "execution_count": 5,
   "metadata": {},
   "outputs": [],
   "source": [
    "n = 50\n",
    "dataset[\"x\"] = np.random.normal(loc = 0,scale = 1, size = n)\n",
    "dataset[\"e\"] = np.random.normal(loc = 0,scale = 1, size = n)\n"
   ]
  },
  {
   "attachments": {},
   "cell_type": "markdown",
   "metadata": {},
   "source": [
    "<font size = \"5\">\n",
    "\n",
    "Create data from the linear model\n",
    "\n",
    "$ y = b_0 + b_1 x + e, \\qquad b_0 = 1, b_1 = 2.$"
   ]
  },
  {
   "cell_type": "code",
   "execution_count": 17,
   "metadata": {},
   "outputs": [],
   "source": [
    "# The number b0 is known as the \"intercept\"\n",
    "# The number b1 is known as the \"slope\"\n",
    "\n",
    "b0 = 1\n",
    "b1 = 2\n",
    "\n",
    "# We can compute formulas directly over dataset columns\n",
    "dataset[\"y\"] = b0 + b1 * dataset[\"x\"] + dataset[\"e\"]"
   ]
  },
  {
   "attachments": {},
   "cell_type": "markdown",
   "metadata": {},
   "source": [
    "<font size = \"5\">\n",
    "\n",
    "Compute the theoretically best fit line\n",
    "\n",
    "$ p = b_0 + b_1 x$"
   ]
  },
  {
   "cell_type": "code",
   "execution_count": 7,
   "metadata": {},
   "outputs": [],
   "source": [
    "dataset[\"p\"] = b0 + b1*dataset[\"x\"]"
   ]
  },
  {
   "attachments": {},
   "cell_type": "markdown",
   "metadata": {},
   "source": [
    "<font size = \"5\">\n",
    "\n",
    "Plot the data"
   ]
  },
  {
   "cell_type": "code",
   "execution_count": 8,
   "metadata": {},
   "outputs": [
    {
     "data": {
      "image/png": "[encoded data removed]",
      "text/plain": [
       "<Figure size 640x480 with 1 Axes>"
      ]
     },
     "metadata": {},
     "output_type": "display_data"
    }
   ],
   "source": [
    "plt.scatter(x = dataset[\"x\"], y = dataset[\"y\"])\n",
    "plt.scatter(x = dataset[\"x\"], y = dataset[\"p\"])\n",
    "\n",
    "plt.xlabel(\"X Variable\")\n",
    "plt.ylabel(\"Y Variable\")\n",
    "plt.legend(labels = [\"Data points\", \"Best fit line\"])\n",
    "plt.show()\n"
   ]
  },
  {
   "attachments": {},
   "cell_type": "markdown",
   "metadata": {},
   "source": [
    "<font size = \"5\" >\n",
    "\n",
    "Try it yourself\n",
    "\n",
    "- Create a new dataset called $\\quad$```subset_above2``` \n",
    "- This subsets records with $y \\ge 2$ using $\\quad$```.query()```\n",
    "- Count the original rows $\\quad$ ```len(dataset)```\n",
    "- Count the subsetted rows $\\quad$ ```len(subset_above2)```\n",
    "- Compute the proportion of subsetted observations\n"
   ]
  },
  {
   "cell_type": "code",
   "execution_count": 21,
   "metadata": {},
   "outputs": [
    {
     "data": {
      "text/plain": [
       "36.0"
      ]
     },
     "execution_count": 21,
     "metadata": {},
     "output_type": "execute_result"
    }
   ],
   "source": [
    "# Write your own code here\n",
    "subset_above2 = dataset.query(\"y>=2\")\n",
    "len(dataset)\n",
    "len(subset_above2)\n",
    "len(subset_above2)/len(dataset)*100"
   ]
  },
  {
   "attachments": {},
   "cell_type": "markdown",
   "metadata": {},
   "source": [
    "<font size = \"5\">\n",
    "\n",
    "Try it yourself!\n",
    "\n",
    "- Store the sample mean of $y$ as $\\quad$ ```ybar```\n",
    "- Compute the standard deviation of $y$ $\\quad$ ```stdv_sample```\n",
    "- Use ```.query()``` to subset observations that satisfy\n",
    "\n",
    "$ \\qquad abs\\left(y - ybar \\right) \\le stdv\\_sample $\n",
    "\n",
    "$\\quad$ HINT: Use ```.mean()```,$\\text{ }$ ```.std()``` <br>\n",
    "$\\quad$ HINT: Use the globals  $\\ $ ```@xbar```,$\\text{ }$ ```@stdv_sample```"
   ]
  },
  {
   "cell_type": "code",
   "execution_count": 22,
   "metadata": {},
   "outputs": [
    {
     "data": {
      "text/html": [
       "<div>\n",
       "<style scoped>\n",
       "    .dataframe tbody tr th:only-of-type {\n",
       "        vertical-align: middle;\n",
       "    }\n",
       "\n",
       "    .dataframe tbody tr th {\n",
       "        vertical-align: top;\n",
       "    }\n",
       "\n",
       "    .dataframe thead th {\n",
       "        text-align: right;\n",
       "    }\n",
       "</style>\n",
       "<table border=\"1\" class=\"dataframe\">\n",
       "  <thead>\n",
       "    <tr style=\"text-align: right;\">\n",
       "      <th></th>\n",
       "      <th>x</th>\n",
       "      <th>e</th>\n",
       "      <th>y</th>\n",
       "      <th>p</th>\n",
       "      <th>p_estimated</th>\n",
       "    </tr>\n",
       "  </thead>\n",
       "  <tbody>\n",
       "    <tr>\n",
       "      <th>0</th>\n",
       "      <td>-0.114407</td>\n",
       "      <td>2.192521</td>\n",
       "      <td>2.963708</td>\n",
       "      <td>0.771187</td>\n",
       "      <td>0.669543</td>\n",
       "    </tr>\n",
       "    <tr>\n",
       "      <th>2</th>\n",
       "      <td>-0.049942</td>\n",
       "      <td>-2.112545</td>\n",
       "      <td>-1.212429</td>\n",
       "      <td>0.900116</td>\n",
       "      <td>0.802527</td>\n",
       "    </tr>\n",
       "    <tr>\n",
       "      <th>3</th>\n",
       "      <td>0.024251</td>\n",
       "      <td>-1.074363</td>\n",
       "      <td>-0.025860</td>\n",
       "      <td>1.048503</td>\n",
       "      <td>0.955581</td>\n",
       "    </tr>\n",
       "    <tr>\n",
       "      <th>4</th>\n",
       "      <td>-1.250845</td>\n",
       "      <td>-0.015489</td>\n",
       "      <td>-1.517180</td>\n",
       "      <td>-1.501691</td>\n",
       "      <td>-1.674818</td>\n",
       "    </tr>\n",
       "    <tr>\n",
       "      <th>5</th>\n",
       "      <td>-0.359743</td>\n",
       "      <td>0.735871</td>\n",
       "      <td>1.016384</td>\n",
       "      <td>0.280513</td>\n",
       "      <td>0.163437</td>\n",
       "    </tr>\n",
       "    <tr>\n",
       "      <th>7</th>\n",
       "      <td>-0.067879</td>\n",
       "      <td>1.229986</td>\n",
       "      <td>2.094228</td>\n",
       "      <td>0.864242</td>\n",
       "      <td>0.765525</td>\n",
       "    </tr>\n",
       "    <tr>\n",
       "      <th>8</th>\n",
       "      <td>-0.869494</td>\n",
       "      <td>-0.746743</td>\n",
       "      <td>-1.485731</td>\n",
       "      <td>-0.738988</td>\n",
       "      <td>-0.888128</td>\n",
       "    </tr>\n",
       "    <tr>\n",
       "      <th>9</th>\n",
       "      <td>-1.098956</td>\n",
       "      <td>0.836361</td>\n",
       "      <td>-0.361551</td>\n",
       "      <td>-1.197912</td>\n",
       "      <td>-1.361485</td>\n",
       "    </tr>\n",
       "    <tr>\n",
       "      <th>10</th>\n",
       "      <td>-0.586940</td>\n",
       "      <td>0.285169</td>\n",
       "      <td>0.111288</td>\n",
       "      <td>-0.173880</td>\n",
       "      <td>-0.305247</td>\n",
       "    </tr>\n",
       "    <tr>\n",
       "      <th>11</th>\n",
       "      <td>-0.604974</td>\n",
       "      <td>0.403817</td>\n",
       "      <td>0.193869</td>\n",
       "      <td>-0.209948</td>\n",
       "      <td>-0.342450</td>\n",
       "    </tr>\n",
       "    <tr>\n",
       "      <th>12</th>\n",
       "      <td>-0.981157</td>\n",
       "      <td>0.327857</td>\n",
       "      <td>-0.634457</td>\n",
       "      <td>-0.962314</td>\n",
       "      <td>-1.118478</td>\n",
       "    </tr>\n",
       "    <tr>\n",
       "      <th>13</th>\n",
       "      <td>-1.160211</td>\n",
       "      <td>1.907963</td>\n",
       "      <td>0.587541</td>\n",
       "      <td>-1.320421</td>\n",
       "      <td>-1.487848</td>\n",
       "    </tr>\n",
       "    <tr>\n",
       "      <th>14</th>\n",
       "      <td>-0.918403</td>\n",
       "      <td>-0.544183</td>\n",
       "      <td>-1.380990</td>\n",
       "      <td>-0.836807</td>\n",
       "      <td>-0.989023</td>\n",
       "    </tr>\n",
       "    <tr>\n",
       "      <th>15</th>\n",
       "      <td>-0.328909</td>\n",
       "      <td>-2.166953</td>\n",
       "      <td>-1.824772</td>\n",
       "      <td>0.342181</td>\n",
       "      <td>0.227045</td>\n",
       "    </tr>\n",
       "    <tr>\n",
       "      <th>16</th>\n",
       "      <td>-0.414430</td>\n",
       "      <td>-1.132413</td>\n",
       "      <td>-0.961272</td>\n",
       "      <td>0.171140</td>\n",
       "      <td>0.050625</td>\n",
       "    </tr>\n",
       "    <tr>\n",
       "      <th>19</th>\n",
       "      <td>-0.745871</td>\n",
       "      <td>0.680652</td>\n",
       "      <td>0.188910</td>\n",
       "      <td>-0.491742</td>\n",
       "      <td>-0.633106</td>\n",
       "    </tr>\n",
       "    <tr>\n",
       "      <th>21</th>\n",
       "      <td>0.070597</td>\n",
       "      <td>-1.081103</td>\n",
       "      <td>0.060092</td>\n",
       "      <td>1.141195</td>\n",
       "      <td>1.051188</td>\n",
       "    </tr>\n",
       "    <tr>\n",
       "      <th>22</th>\n",
       "      <td>1.083863</td>\n",
       "      <td>-0.759769</td>\n",
       "      <td>2.407957</td>\n",
       "      <td>3.167726</td>\n",
       "      <td>3.141455</td>\n",
       "    </tr>\n",
       "    <tr>\n",
       "      <th>24</th>\n",
       "      <td>-1.040751</td>\n",
       "      <td>1.604744</td>\n",
       "      <td>0.523241</td>\n",
       "      <td>-1.081503</td>\n",
       "      <td>-1.241415</td>\n",
       "    </tr>\n",
       "    <tr>\n",
       "      <th>26</th>\n",
       "      <td>-0.312487</td>\n",
       "      <td>-0.528317</td>\n",
       "      <td>-0.153291</td>\n",
       "      <td>0.375026</td>\n",
       "      <td>0.260923</td>\n",
       "    </tr>\n",
       "    <tr>\n",
       "      <th>28</th>\n",
       "      <td>-0.674652</td>\n",
       "      <td>0.462044</td>\n",
       "      <td>0.112740</td>\n",
       "      <td>-0.349304</td>\n",
       "      <td>-0.486188</td>\n",
       "    </tr>\n",
       "    <tr>\n",
       "      <th>29</th>\n",
       "      <td>-0.206352</td>\n",
       "      <td>-0.555904</td>\n",
       "      <td>0.031392</td>\n",
       "      <td>0.587296</td>\n",
       "      <td>0.479868</td>\n",
       "    </tr>\n",
       "    <tr>\n",
       "      <th>33</th>\n",
       "      <td>-0.852286</td>\n",
       "      <td>0.064220</td>\n",
       "      <td>-0.640352</td>\n",
       "      <td>-0.704572</td>\n",
       "      <td>-0.852630</td>\n",
       "    </tr>\n",
       "    <tr>\n",
       "      <th>34</th>\n",
       "      <td>-1.473079</td>\n",
       "      <td>0.246706</td>\n",
       "      <td>-1.699452</td>\n",
       "      <td>-1.946157</td>\n",
       "      <td>-2.133264</td>\n",
       "    </tr>\n",
       "    <tr>\n",
       "      <th>35</th>\n",
       "      <td>0.636097</td>\n",
       "      <td>0.405160</td>\n",
       "      <td>2.677353</td>\n",
       "      <td>2.272193</td>\n",
       "      <td>2.217757</td>\n",
       "    </tr>\n",
       "    <tr>\n",
       "      <th>38</th>\n",
       "      <td>-1.059028</td>\n",
       "      <td>1.034430</td>\n",
       "      <td>-0.083626</td>\n",
       "      <td>-1.118056</td>\n",
       "      <td>-1.279118</td>\n",
       "    </tr>\n",
       "    <tr>\n",
       "      <th>39</th>\n",
       "      <td>-1.455472</td>\n",
       "      <td>0.219417</td>\n",
       "      <td>-1.691527</td>\n",
       "      <td>-1.910944</td>\n",
       "      <td>-2.096943</td>\n",
       "    </tr>\n",
       "    <tr>\n",
       "      <th>40</th>\n",
       "      <td>-0.574506</td>\n",
       "      <td>-0.643570</td>\n",
       "      <td>-0.792582</td>\n",
       "      <td>-0.149012</td>\n",
       "      <td>-0.279597</td>\n",
       "    </tr>\n",
       "    <tr>\n",
       "      <th>41</th>\n",
       "      <td>0.989789</td>\n",
       "      <td>0.060273</td>\n",
       "      <td>3.039850</td>\n",
       "      <td>2.979577</td>\n",
       "      <td>2.947389</td>\n",
       "    </tr>\n",
       "    <tr>\n",
       "      <th>43</th>\n",
       "      <td>0.789762</td>\n",
       "      <td>-0.129375</td>\n",
       "      <td>2.450149</td>\n",
       "      <td>2.579524</td>\n",
       "      <td>2.534754</td>\n",
       "    </tr>\n",
       "    <tr>\n",
       "      <th>44</th>\n",
       "      <td>-0.700141</td>\n",
       "      <td>0.933875</td>\n",
       "      <td>0.533594</td>\n",
       "      <td>-0.400281</td>\n",
       "      <td>-0.538768</td>\n",
       "    </tr>\n",
       "    <tr>\n",
       "      <th>45</th>\n",
       "      <td>1.764803</td>\n",
       "      <td>-1.376622</td>\n",
       "      <td>3.152983</td>\n",
       "      <td>4.529605</td>\n",
       "      <td>4.546167</td>\n",
       "    </tr>\n",
       "    <tr>\n",
       "      <th>46</th>\n",
       "      <td>-1.011487</td>\n",
       "      <td>-0.487671</td>\n",
       "      <td>-1.510645</td>\n",
       "      <td>-1.022975</td>\n",
       "      <td>-1.181046</td>\n",
       "    </tr>\n",
       "    <tr>\n",
       "      <th>47</th>\n",
       "      <td>0.843868</td>\n",
       "      <td>-0.628567</td>\n",
       "      <td>2.059169</td>\n",
       "      <td>2.687737</td>\n",
       "      <td>2.646370</td>\n",
       "    </tr>\n",
       "  </tbody>\n",
       "</table>\n",
       "</div>"
      ],
      "text/plain": [
       "           x         e         y         p  p_estimated\n",
       "0  -0.114407  2.192521  2.963708  0.771187     0.669543\n",
       "2  -0.049942 -2.112545 -1.212429  0.900116     0.802527\n",
       "3   0.024251 -1.074363 -0.025860  1.048503     0.955581\n",
       "4  -1.250845 -0.015489 -1.517180 -1.501691    -1.674818\n",
       "5  -0.359743  0.735871  1.016384  0.280513     0.163437\n",
       "7  -0.067879  1.229986  2.094228  0.864242     0.765525\n",
       "8  -0.869494 -0.746743 -1.485731 -0.738988    -0.888128\n",
       "9  -1.098956  0.836361 -0.361551 -1.197912    -1.361485\n",
       "10 -0.586940  0.285169  0.111288 -0.173880    -0.305247\n",
       "11 -0.604974  0.403817  0.193869 -0.209948    -0.342450\n",
       "12 -0.981157  0.327857 -0.634457 -0.962314    -1.118478\n",
       "13 -1.160211  1.907963  0.587541 -1.320421    -1.487848\n",
       "14 -0.918403 -0.544183 -1.380990 -0.836807    -0.989023\n",
       "15 -0.328909 -2.166953 -1.824772  0.342181     0.227045\n",
       "16 -0.414430 -1.132413 -0.961272  0.171140     0.050625\n",
       "19 -0.745871  0.680652  0.188910 -0.491742    -0.633106\n",
       "21  0.070597 -1.081103  0.060092  1.141195     1.051188\n",
       "22  1.083863 -0.759769  2.407957  3.167726     3.141455\n",
       "24 -1.040751  1.604744  0.523241 -1.081503    -1.241415\n",
       "26 -0.312487 -0.528317 -0.153291  0.375026     0.260923\n",
       "28 -0.674652  0.462044  0.112740 -0.349304    -0.486188\n",
       "29 -0.206352 -0.555904  0.031392  0.587296     0.479868\n",
       "33 -0.852286  0.064220 -0.640352 -0.704572    -0.852630\n",
       "34 -1.473079  0.246706 -1.699452 -1.946157    -2.133264\n",
       "35  0.636097  0.405160  2.677353  2.272193     2.217757\n",
       "38 -1.059028  1.034430 -0.083626 -1.118056    -1.279118\n",
       "39 -1.455472  0.219417 -1.691527 -1.910944    -2.096943\n",
       "40 -0.574506 -0.643570 -0.792582 -0.149012    -0.279597\n",
       "41  0.989789  0.060273  3.039850  2.979577     2.947389\n",
       "43  0.789762 -0.129375  2.450149  2.579524     2.534754\n",
       "44 -0.700141  0.933875  0.533594 -0.400281    -0.538768\n",
       "45  1.764803 -1.376622  3.152983  4.529605     4.546167\n",
       "46 -1.011487 -0.487671 -1.510645 -1.022975    -1.181046\n",
       "47  0.843868 -0.628567  2.059169  2.687737     2.646370"
      ]
     },
     "execution_count": 22,
     "metadata": {},
     "output_type": "execute_result"
    }
   ],
   "source": [
    "# Note: abs(...) is the absolute value function\n",
    "# Write your own code \n",
    "ybar = dataset[\"y\"].mean()\n",
    "stdv_sample = dataset[\"y\"].std()\n",
    "dataset.query(\"abs(y-@ybar) <= @stdv_sample\")"
   ]
  },
  {
   "attachments": {},
   "cell_type": "markdown",
   "metadata": {},
   "source": [
    "# <span style=\"color:darkblue\"> II. Estimate the best fit line</span>\n"
   ]
  },
  {
   "attachments": {},
   "cell_type": "markdown",
   "metadata": {},
   "source": [
    "<font size = \"5\">\n",
    "\n",
    "We have data on $(y,x)$ but we don't know $(b_0,b_1)$"
   ]
  },
  {
   "attachments": {},
   "cell_type": "markdown",
   "metadata": {},
   "source": [
    "<font size = \"5\">\n",
    "\n",
    "Let's fit an OLS model\n",
    "\n",
    "- It's a statistical approach to get $(b_0,b_1)$\n",
    "- No need to know how it works but why we want it"
   ]
  },
  {
   "cell_type": "code",
   "execution_count": 23,
   "metadata": {},
   "outputs": [],
   "source": [
    "#------------------------------------------------------------------------------#\n",
    "# We use the subfunction \"ols()\" in the library \"smf\"\n",
    "#---- (i) The first argument is a string called \"formula\" with the format \n",
    "#-------- \"outcome ~ indepdent_vars\"\n",
    "#----(ii) the second argument is the dataset\n",
    "# The second line fits the model with standard errors \"cov\". In this case we \n",
    "# use \"robust\" standard errors (HC1)\n",
    "#-------------------------------------------------------------------------------#\n",
    "\n",
    "model   = smf.ols(formula = 'y ~  x',data = dataset)\n",
    "results = model.fit(cov_type = \"HC1\")\n",
    "\n",
    "# Can also run as one line\n",
    "# results = smf.ols(formula = 'y ~ x',data = dataset).fit(cov = \"HC1\")\n"
   ]
  },
  {
   "attachments": {},
   "cell_type": "markdown",
   "metadata": {},
   "source": [
    "<font size = \"5\">\n",
    "\n",
    "Compute the estimated best fit line"
   ]
  },
  {
   "cell_type": "code",
   "execution_count": 24,
   "metadata": {},
   "outputs": [
    {
     "name": "stdout",
     "output_type": "stream",
     "text": [
      "Intercept    0.905553\n",
      "x            2.062902\n",
      "dtype: float64\n"
     ]
    }
   ],
   "source": [
    "# We will use \".params\" to get the attribute \"parameters from the results\"\n",
    "\n",
    "b_list = results.params\n",
    "print(b_list)\n",
    "\n",
    "# We can then compute the \"estimated\" best fit lines\n",
    "# by extracting the intercept and slop from \"b_list\"\n",
    "\n",
    "dataset[\"p_estimated\"] = b_list[0] + b_list[1]  * dataset[\"x\"]\n",
    "\n",
    "# Note: The estimators for \"b0\" and \"b1\" are close to \n",
    "# the values we used to generate the data\n"
   ]
  },
  {
   "attachments": {},
   "cell_type": "markdown",
   "metadata": {},
   "source": [
    "<font size = \"5\">\n",
    "\n",
    "Plot the best fit line"
   ]
  },
  {
   "cell_type": "code",
   "execution_count": 25,
   "metadata": {},
   "outputs": [
    {
     "data": {
      "image/png": "[encoded data removed]",
      "text/plain": [
       "<Figure size 640x480 with 1 Axes>"
      ]
     },
     "metadata": {},
     "output_type": "display_data"
    }
   ],
   "source": [
    "# Use scatter twice, with different \"y\" inputs\n",
    "# THe \"legend\" command creates a box on with the color labels\n",
    "\n",
    "plt.scatter(x = dataset[\"x\"],y = dataset[\"y\"])\n",
    "plt.scatter(x = dataset[\"x\"],y = dataset[\"p_estimated\"])\n",
    "\n",
    "plt.legend(labels = [\"Data points\",\"Estimated Predicted Model\"])\n",
    "plt.show()\n"
   ]
  },
  {
   "attachments": {},
   "cell_type": "markdown",
   "metadata": {},
   "source": [
    "<font size = \"5\">\n",
    "\n",
    "Try it yourself!\n",
    "- How good is the estimated fit?\n",
    "- Create two overlapping scatterplots\n",
    "- $(p \\text{ }$ vs $\\text{ } x)$ and $(p_{estimated} \\text{ }$ vs $\\text{ } x)$\n",
    "- Create a legend to label each plot"
   ]
  },
  {
   "cell_type": "code",
   "execution_count": 28,
   "metadata": {},
   "outputs": [
    {
     "data": {
      "text/plain": [
       "<matplotlib.legend.Legend at 0x2109fac8190>"
      ]
     },
     "execution_count": 28,
     "metadata": {},
     "output_type": "execute_result"
    },
    {
     "data": {
      "image/png": "[encoded data removed]",
      "text/plain": [
       "<Figure size 640x480 with 1 Axes>"
      ]
     },
     "metadata": {},
     "output_type": "display_data"
    }
   ],
   "source": [
    "# Write your own code\n",
    "plt.scatter(x=dataset[\"x\"], y=dataset[\"p\"], alpha = 0.5)\n",
    "plt.scatter(x=dataset[\"x\"], y=dataset[\"p_estimated\"], alpha=0.5)\n",
    "plt.xlabel(\"x\")\n",
    "plt.ylabel(\"y\")\n",
    "plt.legend(labels=[\"p\", \"p_estimated\"])"
   ]
  },
  {
   "attachments": {},
   "cell_type": "markdown",
   "metadata": {},
   "source": [
    "<font size = \"5\">\n",
    "\n",
    "Try it youself\n",
    "\n",
    "- Compute a column with the formula\n",
    "\n",
    "$\\quad$ ``` sample_error = y - p_estimated```\n",
    "\n",
    "- Create a lambda function <br>\n",
    "\n",
    "$\\quad$ ``` fn_positive_error  error: error >= 0  ```\n",
    "\n",
    "- Compute a column for whether the error is positive <br>\n",
    "using ``` .apply()```\n",
    "\n"
   ]
  },
  {
   "cell_type": "code",
   "execution_count": 29,
   "metadata": {},
   "outputs": [
    {
     "data": {
      "text/plain": [
       "0      True\n",
       "1     False\n",
       "2     False\n",
       "3     False\n",
       "4      True\n",
       "5      True\n",
       "6      True\n",
       "7      True\n",
       "8     False\n",
       "9      True\n",
       "10     True\n",
       "11     True\n",
       "12     True\n",
       "13     True\n",
       "14    False\n",
       "15    False\n",
       "16    False\n",
       "17     True\n",
       "18    False\n",
       "19     True\n",
       "20     True\n",
       "21    False\n",
       "22    False\n",
       "23    False\n",
       "24     True\n",
       "25    False\n",
       "26    False\n",
       "27    False\n",
       "28     True\n",
       "29    False\n",
       "30    False\n",
       "31    False\n",
       "32     True\n",
       "33     True\n",
       "34     True\n",
       "35     True\n",
       "36     True\n",
       "37    False\n",
       "38     True\n",
       "39     True\n",
       "40    False\n",
       "41     True\n",
       "42     True\n",
       "43    False\n",
       "44     True\n",
       "45    False\n",
       "46    False\n",
       "47    False\n",
       "48     True\n",
       "49     True\n",
       "Name: error_sign, dtype: bool"
      ]
     },
     "execution_count": 29,
     "metadata": {},
     "output_type": "execute_result"
    }
   ],
   "source": [
    "# Write your own code\n",
    "dataset[\"sample_error\"] = dataset[\"y\"] - dataset[\"p_estimated\"]\n",
    "dataset[\"error_sign\"] = dataset[\"sample_error\"].apply(lambda x: x>=0)\n",
    "dataset[\"error_sign\"]"
   ]
  },
  {
   "attachments": {},
   "cell_type": "markdown",
   "metadata": {},
   "source": [
    "<font size = \"5\">\n",
    "\n",
    "Try it yourself\n",
    "\n",
    "- Compute a new column <br>\n",
    "\n",
    "```error_sqr = sample_error ** 2```\n",
    "\n",
    "- Calculate the mean of ```error_sqr```"
   ]
  },
  {
   "cell_type": "code",
   "execution_count": 30,
   "metadata": {},
   "outputs": [
    {
     "data": {
      "text/plain": [
       "1.1696324079454579"
      ]
     },
     "execution_count": 30,
     "metadata": {},
     "output_type": "execute_result"
    }
   ],
   "source": [
    "# Write your own code\n",
    "dataset[\"error_sqr\"] = dataset[\"sample_error\"]**2\n",
    "dataset[\"error_sqr\"].mean()"
   ]
  }
 ],
 "metadata": {
  "kernelspec": {
   "display_name": "Python 3",
   "language": "python",
   "name": "python3"
  },
  "language_info": {
   "codemirror_mode": {
    "name": "ipython",
    "version": 3
   },
   "file_extension": ".py",
   "mimetype": "text/x-python",
   "name": "python",
   "nbconvert_exporter": "python",
   "pygments_lexer": "ipython3",
   "version": "3.9.13"
  },
  "orig_nbformat": 4,
  "vscode": {
   "interpreter": {
    "hash": "3c4b73e0e8dd62406db597d2876ccde5a85702bfee60e99d4a8987331e84dcea"
   }
  }
 },
 "nbformat": 4,
 "nbformat_minor": 2
}
