{
 "cells": [
  {
   "attachments": {},
   "cell_type": "markdown",
   "metadata": {},
   "source": [
    "# <span style=\"color:darkblue\"> Lecture 13 - Replacing and recoding variables</span>\n",
    "\n",
    "<font size = \"5\">\n",
    "\n",
    "- Starting a new module on manipulating data\n",
    "- We will discuss NaNs and how to clean data\n"
   ]
  },
  {
   "attachments": {},
   "cell_type": "markdown",
   "metadata": {},
   "source": [
    "# <span style=\"color:darkblue\"> I. Import Libraries and Data </span>\n"
   ]
  },
  {
   "attachments": {},
   "cell_type": "markdown",
   "metadata": {},
   "source": [
    "<font size = \"5\">\n",
    "Key libraries"
   ]
  },
  {
   "cell_type": "code",
   "execution_count": 1,
   "metadata": {},
   "outputs": [],
   "source": [
    "import numpy as np\n",
    "import pandas as pd"
   ]
  },
  {
   "attachments": {},
   "cell_type": "markdown",
   "metadata": {},
   "source": [
    "<font size = \"5\">\n",
    "\n",
    "Read dataset on car racing circuits\n",
    "\n",
    "- https://en.wikipedia.org/wiki/Formula_One <br>\n",
    "- [See Data Source](https://www.kaggle.com/datasets/rohanrao/formula-1-world-championship-1950-2020)"
   ]
  },
  {
   "cell_type": "code",
   "execution_count": 2,
   "metadata": {},
   "outputs": [],
   "source": [
    "circuits = pd.read_csv(\"data_raw/circuits.csv\")"
   ]
  },
  {
   "attachments": {},
   "cell_type": "markdown",
   "metadata": {},
   "source": [
    "<font size = \"5\">\n",
    "\n",
    "The dataset \"codebook\" is a table with ...\n",
    "\n",
    "- Key column information\n",
    "- Main things:  Field, Type, and Description\n",
    "\n",
    "<img src=\"figures/codebook_circuits.png\" alt=\"drawing\" width=\"500\"/>\n"
   ]
  },
  {
   "cell_type": "code",
   "execution_count": 32,
   "metadata": {},
   "outputs": [],
   "source": [
    "# The codebook contains basic about the columns\n",
    "# \"Field\" is the name given to the name of the column\n",
    "# \"Type\"  is the variable type (with the number of characters in parenthesis):\n",
    "#         integer (int)\n",
    "#         string (varchar - \"variable character\")\n",
    "#         float (float)\n",
    "# \"Description\" contains a label with the content of the variable"
   ]
  },
  {
   "attachments": {},
   "cell_type": "markdown",
   "metadata": {},
   "source": [
    "<font size = \"5\">\n",
    "\n",
    "Quick Discussion:\n",
    "- What does the \"alt\" column represent?\n",
    "- What does \"varchar(255)\" mean?"
   ]
  },
  {
   "attachments": {},
   "cell_type": "markdown",
   "metadata": {},
   "source": [
    "# <span style=\"color:darkblue\"> II. NaNs </span>\n",
    "\n",
    "<font size = \"5\">\n",
    "\n",
    "- Means \"Not a Number\"\n",
    "- Used to denote missing values"
   ]
  },
  {
   "cell_type": "code",
   "execution_count": 3,
   "metadata": {},
   "outputs": [
    {
     "data": {
      "text/plain": [
       "nan"
      ]
     },
     "execution_count": 3,
     "metadata": {},
     "output_type": "execute_result"
    }
   ],
   "source": [
    "# \"NaNs\" are a special number, available in the \"np\" library\n",
    "\n",
    "np.nan"
   ]
  },
  {
   "attachments": {},
   "cell_type": "markdown",
   "metadata": {},
   "source": [
    "<font size = \"5\">\n",
    "\n",
    "Operations on arrays with NaNs"
   ]
  },
  {
   "cell_type": "code",
   "execution_count": 5,
   "metadata": {},
   "outputs": [
    {
     "name": "stdout",
     "output_type": "stream",
     "text": [
      "[nan  4.  5.]\n",
      "[ nan 0.25 0.2 ]\n",
      "[nan  5.  6.]\n",
      "[nan -3. -4.]\n"
     ]
    }
   ],
   "source": [
    "# Create two array with and without \"NaNs\"\n",
    "# The \"np.array()\" functions converts a list to an array\n",
    "\n",
    "vec_without_nans = np.array(   [1,1,1]   )\n",
    "vec_with_nans = np.array(  [np.nan,4,5] )\n",
    "\n",
    "# When you add the vectors\n",
    "# you will produce an error on any entries with \"NaNs\"\n",
    "print(vec_without_nans * vec_with_nans)\n",
    "print(vec_without_nans / vec_with_nans)\n",
    "print(vec_without_nans + vec_with_nans)\n",
    "print(vec_without_nans - vec_with_nans)\n"
   ]
  },
  {
   "attachments": {},
   "cell_type": "markdown",
   "metadata": {},
   "source": [
    "<font size = \"5\">\n",
    "\n",
    "Summary statistics with NaNs"
   ]
  },
  {
   "cell_type": "code",
   "execution_count": 6,
   "metadata": {},
   "outputs": [
    {
     "name": "stdout",
     "output_type": "stream",
     "text": [
      "nan\n",
      "4.5\n"
     ]
    }
   ],
   "source": [
    "# Some summary statistics will not work if there are \"NaNs\"\n",
    "# The \"np.mean()\" doesn't work if the mean includes \"NaNs\"\n",
    "print(np.mean(vec_with_nans))\n",
    "\n",
    "# Some commands ignore the \"nans\"\n",
    "# The \"np.nanmean()\" computes the mean over the numeric obvservations\n",
    "print(np.nanmean(vec_with_nans))"
   ]
  },
  {
   "attachments": {},
   "cell_type": "markdown",
   "metadata": {},
   "source": [
    "<font size = \"5\">\n",
    "\n",
    "Pandas summary statistics ignore NaNs"
   ]
  },
  {
   "cell_type": "code",
   "execution_count": 8,
   "metadata": {},
   "outputs": [
    {
     "data": {
      "text/plain": [
       "4.5"
      ]
     },
     "execution_count": 8,
     "metadata": {},
     "output_type": "execute_result"
    }
   ],
   "source": [
    "# This command creates an empty dataframe\n",
    "# then creates a new column called \"x\" and computes its mean\n",
    "# Note: If a column contains missing values, then the \"mean\" won't be \n",
    "#       representative of the whole sample\n",
    "\n",
    "dataset = pd.DataFrame([])\n",
    "dataset[\"x\"] = vec_with_nans\n",
    "dataset[\"x\"].mean()"
   ]
  },
  {
   "attachments": {},
   "cell_type": "markdown",
   "metadata": {},
   "source": [
    "# <span style=\"color:darkblue\"> II. Data Cleaning</span>\n",
    "\n",
    "<font size = \"5\">\n",
    "\n",
    "- Data collection isn't perfect!\n",
    "- Need to adjust values with incorrect formatting"
   ]
  },
  {
   "attachments": {},
   "cell_type": "markdown",
   "metadata": {},
   "source": [
    "<font size = \"5\">\n",
    "Get data types"
   ]
  },
  {
   "cell_type": "code",
   "execution_count": 9,
   "metadata": {},
   "outputs": [
    {
     "data": {
      "text/plain": [
       "circuitId       int64\n",
       "circuitRef     object\n",
       "name           object\n",
       "location       object\n",
       "country        object\n",
       "lat           float64\n",
       "lng           float64\n",
       "alt            object\n",
       "url            object\n",
       "dtype: object"
      ]
     },
     "execution_count": 9,
     "metadata": {},
     "output_type": "execute_result"
    }
   ],
   "source": [
    "# Produces a list with the data types of each column\n",
    "# Columns that say \"object\" have either strings or \n",
    "# a mix of string and numeric values\n",
    "\n",
    "circuits.dtypes"
   ]
  },
  {
   "attachments": {},
   "cell_type": "markdown",
   "metadata": {},
   "source": [
    "<font size = \"5\">\n",
    "\n",
    "Check rows with numeric values"
   ]
  },
  {
   "cell_type": "code",
   "execution_count": 14,
   "metadata": {},
   "outputs": [
    {
     "data": {
      "text/plain": [
       "0      True\n",
       "1      True\n",
       "2      True\n",
       "3      True\n",
       "4      True\n",
       "      ...  \n",
       "72     True\n",
       "73     True\n",
       "74     True\n",
       "75    False\n",
       "76    False\n",
       "Name: alt, Length: 77, dtype: bool"
      ]
     },
     "execution_count": 14,
     "metadata": {},
     "output_type": "execute_result"
    }
   ],
   "source": [
    "# The \".str.isnumeric()\" checks whether each row is numeric or now.\n",
    "# Using the \".\" twice is an example of \"piping\"\n",
    "# which refers to chaining two commands \"str\" and \"isnumeric()\"\n",
    "\n",
    "circuits[\"alt\"].str.isnumeric()"
   ]
  },
  {
   "attachments": {},
   "cell_type": "markdown",
   "metadata": {},
   "source": [
    "<font size = \"5\">\n",
    "\n",
    "Extract list of non-numeric values"
   ]
  },
  {
   "cell_type": "code",
   "execution_count": 16,
   "metadata": {},
   "outputs": [
    {
     "name": "stdout",
     "output_type": "stream",
     "text": [
      "['\\\\N' '-7']\n"
     ]
    }
   ],
   "source": [
    "# We can reference subattributes of columns in \".query()\"\n",
    "# The pd.unique() function extracts unique values from a list\n",
    "\n",
    "subset      = circuits.query(\"alt.str.isnumeric() == False\")\n",
    "list_unique = pd.unique(subset[\"alt\"])\n",
    "print(list_unique)\n"
   ]
  },
  {
   "attachments": {},
   "cell_type": "markdown",
   "metadata": {},
   "source": [
    "<font size = \"5\">\n",
    "\n",
    "Replace certain values"
   ]
  },
  {
   "cell_type": "code",
   "execution_count": 17,
   "metadata": {},
   "outputs": [],
   "source": [
    "# \"list_old\" encodes values we want to change\n",
    "# \"list_new\" encodes the values that will \"replace\" the old\n",
    "list_old = ['\\\\N','-7']\n",
    "list_new = [np.nan,-7]\n",
    "\n",
    "# This command replaces the values of the \"alt\" column\n",
    "circuits[\"alt\"] = circuits[\"alt\"].replace(list_old, list_new)\n",
    "\n",
    "# Note: The option \"inplace = True\" permanently modifies the column\n",
    "# circuits[\"alt\"].replace(list_old, list_new, inplace = True)\n"
   ]
  },
  {
   "attachments": {},
   "cell_type": "markdown",
   "metadata": {},
   "source": [
    "<font size = \"5\">\n",
    "\n",
    "Store a \"cleaned\" dataset"
   ]
  },
  {
   "cell_type": "code",
   "execution_count": 18,
   "metadata": {},
   "outputs": [],
   "source": [
    "# After the cleaning process is done, you may want to store the dataset again\n",
    "# It's recommended to do this in a separate file from the original\n",
    "# That way you can always go back to the original if you made a coding error\n",
    "\n",
    "circuits.to_csv(\"data_clean/circuits.csv\")\n"
   ]
  },
  {
   "attachments": {},
   "cell_type": "markdown",
   "metadata": {},
   "source": [
    "<font size = \"5\">\n",
    "Try it yourself!\n",
    "\n",
    "- Use \".replace()\" with the \"country\" column\n",
    "- Replace \"UK\" with \"United Kingdom\""
   ]
  },
  {
   "cell_type": "code",
   "execution_count": 21,
   "metadata": {},
   "outputs": [
    {
     "data": {
      "text/html": [
       "<div>\n",
       "<style scoped>\n",
       "    .dataframe tbody tr th:only-of-type {\n",
       "        vertical-align: middle;\n",
       "    }\n",
       "\n",
       "    .dataframe tbody tr th {\n",
       "        vertical-align: top;\n",
       "    }\n",
       "\n",
       "    .dataframe thead th {\n",
       "        text-align: right;\n",
       "    }\n",
       "</style>\n",
       "<table border=\"1\" class=\"dataframe\">\n",
       "  <thead>\n",
       "    <tr style=\"text-align: right;\">\n",
       "      <th></th>\n",
       "      <th>circuitId</th>\n",
       "      <th>circuitRef</th>\n",
       "      <th>name</th>\n",
       "      <th>location</th>\n",
       "      <th>country</th>\n",
       "      <th>lat</th>\n",
       "      <th>lng</th>\n",
       "      <th>alt</th>\n",
       "      <th>url</th>\n",
       "    </tr>\n",
       "  </thead>\n",
       "  <tbody>\n",
       "    <tr>\n",
       "      <th>8</th>\n",
       "      <td>9</td>\n",
       "      <td>silverstone</td>\n",
       "      <td>Silverstone Circuit</td>\n",
       "      <td>Silverstone</td>\n",
       "      <td>UK</td>\n",
       "      <td>52.0786</td>\n",
       "      <td>-1.016940</td>\n",
       "      <td>153</td>\n",
       "      <td>http://en.wikipedia.org/wiki/Silverstone_Circuit</td>\n",
       "    </tr>\n",
       "    <tr>\n",
       "      <th>30</th>\n",
       "      <td>31</td>\n",
       "      <td>donington</td>\n",
       "      <td>Donington Park</td>\n",
       "      <td>Castle Donington</td>\n",
       "      <td>UK</td>\n",
       "      <td>52.8306</td>\n",
       "      <td>-1.375280</td>\n",
       "      <td>88</td>\n",
       "      <td>http://en.wikipedia.org/wiki/Donington_Park</td>\n",
       "    </tr>\n",
       "    <tr>\n",
       "      <th>37</th>\n",
       "      <td>38</td>\n",
       "      <td>brands_hatch</td>\n",
       "      <td>Brands Hatch</td>\n",
       "      <td>Kent</td>\n",
       "      <td>UK</td>\n",
       "      <td>51.3569</td>\n",
       "      <td>0.263056</td>\n",
       "      <td>145</td>\n",
       "      <td>http://en.wikipedia.org/wiki/Brands_Hatch</td>\n",
       "    </tr>\n",
       "    <tr>\n",
       "      <th>57</th>\n",
       "      <td>58</td>\n",
       "      <td>aintree</td>\n",
       "      <td>Aintree</td>\n",
       "      <td>Liverpool</td>\n",
       "      <td>UK</td>\n",
       "      <td>53.4769</td>\n",
       "      <td>-2.940560</td>\n",
       "      <td>20</td>\n",
       "      <td>http://en.wikipedia.org/wiki/Aintree_Motor_Rac...</td>\n",
       "    </tr>\n",
       "  </tbody>\n",
       "</table>\n",
       "</div>"
      ],
      "text/plain": [
       "    circuitId    circuitRef                 name          location country  \\\n",
       "8           9   silverstone  Silverstone Circuit       Silverstone      UK   \n",
       "30         31     donington       Donington Park  Castle Donington      UK   \n",
       "37         38  brands_hatch         Brands Hatch              Kent      UK   \n",
       "57         58       aintree              Aintree         Liverpool      UK   \n",
       "\n",
       "        lat       lng  alt                                                url  \n",
       "8   52.0786 -1.016940  153   http://en.wikipedia.org/wiki/Silverstone_Circuit  \n",
       "30  52.8306 -1.375280   88        http://en.wikipedia.org/wiki/Donington_Park  \n",
       "37  51.3569  0.263056  145          http://en.wikipedia.org/wiki/Brands_Hatch  \n",
       "57  53.4769 -2.940560   20  http://en.wikipedia.org/wiki/Aintree_Motor_Rac...  "
      ]
     },
     "execution_count": 21,
     "metadata": {},
     "output_type": "execute_result"
    }
   ],
   "source": [
    "# Write your own code\n",
    "circuits[\"country\"].replace(\"United Kingdom\", \"UK\")\n",
    "circuits.query('country == \"UK\"')"
   ]
  },
  {
   "attachments": {},
   "cell_type": "markdown",
   "metadata": {},
   "source": [
    "<font size = \"5\">\n",
    "Try it yourself!\n",
    "\n",
    "- What is the column type of \"lat\" or \"long\"?\n",
    "- Does it have any string variables?"
   ]
  },
  {
   "cell_type": "code",
   "execution_count": 25,
   "metadata": {},
   "outputs": [
    {
     "name": "stdout",
     "output_type": "stream",
     "text": [
      "float64\n",
      "float64\n"
     ]
    }
   ],
   "source": [
    "# Write your own code\n",
    "print(circuits[\"lat\"].dtype)\n",
    "print(circuits[\"lng\"].dtype)"
   ]
  },
  {
   "attachments": {},
   "cell_type": "markdown",
   "metadata": {},
   "source": [
    "<font size = \"5\">"
   ]
  },
  {
   "attachments": {},
   "cell_type": "markdown",
   "metadata": {},
   "source": [
    "# <span style=\"color:darkblue\"> II. Recoding Numeric Variables </span>\n",
    "\n"
   ]
  },
  {
   "attachments": {},
   "cell_type": "markdown",
   "metadata": {},
   "source": [
    "<font size = \"5\">\n",
    "\n",
    "<span style=\"color:red\"> Controlled Pitfall </span> Computing a mean for a non-numeric column"
   ]
  },
  {
   "cell_type": "code",
   "execution_count": 47,
   "metadata": {},
   "outputs": [
    {
     "data": {
      "text/plain": [
       "0      10.0\n",
       "1      18.0\n",
       "2       7.0\n",
       "3     109.0\n",
       "4     130.0\n",
       "      ...  \n",
       "72    108.0\n",
       "73    255.0\n",
       "74     15.0\n",
       "75      NaN\n",
       "76      NaN\n",
       "Name: alt, Length: 77, dtype: float64"
      ]
     },
     "execution_count": 47,
     "metadata": {},
     "output_type": "execute_result"
    }
   ],
   "source": [
    "# Uncomment this command to see the error\n",
    "# The following error occurs because the data type\n",
    "# is not numeric\n",
    "pd.to_numeric(circuits[\"alt\"])"
   ]
  },
  {
   "attachments": {},
   "cell_type": "markdown",
   "metadata": {},
   "source": [
    "<font size = \"5\">\n",
    "\n",
    "Convert column to numeric"
   ]
  },
  {
   "cell_type": "code",
   "execution_count": 45,
   "metadata": {},
   "outputs": [
    {
     "name": "stdout",
     "output_type": "stream",
     "text": [
      "248.1891891891892\n"
     ]
    }
   ],
   "source": [
    "# pd.to_numeric() converts a column to numeric\n",
    "# Before you use this option, make sure to \"clean\" the variable\n",
    "# as we did before by checking what the non-numeric values are\n",
    "\n",
    "circuits[\"alt_numeric\"] = pd.to_numeric(circuits[\"alt\"])\n",
    "print(circuits[\"alt_numeric\"].mean())"
   ]
  },
  {
   "attachments": {},
   "cell_type": "markdown",
   "metadata": {},
   "source": [
    "<font size = \"5\">\n",
    "\n",
    "Recode values based on an interval <br>\n",
    "\n",
    "$ \\qquad x_{bin} = \\begin{cases} ``A\" &\\text{ if \\quad} x_1 < x \\le x_2 \\\\\n",
    "                                  ``B\" &\\text{ if \\quad} x_2 < x \\le x_3 \\end{cases} $\n",
    "\n"
   ]
  },
  {
   "cell_type": "code",
   "execution_count": 49,
   "metadata": {},
   "outputs": [
    {
     "data": {
      "text/plain": [
       "0     Between 0 and 2500\n",
       "1     Between 0 and 2500\n",
       "2     Between 0 and 2500\n",
       "3     Between 0 and 2500\n",
       "4     Between 0 and 2500\n",
       "             ...        \n",
       "72    Between 0 and 2500\n",
       "73    Between 0 and 2500\n",
       "74    Between 0 and 2500\n",
       "75                   NaN\n",
       "76                   NaN\n",
       "Name: bins_alt, Length: 77, dtype: category\n",
       "Categories (2, object): ['Between 0 and 2500' < 'Between 2500 and 5000']"
      ]
     },
     "execution_count": 49,
     "metadata": {},
     "output_type": "execute_result"
    }
   ],
   "source": [
    "bins_x = [0,2500, 5000]\n",
    "labels_x = [\"Between 0 and 2500\",\n",
    "            \"Between 2500 and 5000\"]\n",
    "\n",
    "circuits[\"bins_alt\"] = pd.cut(circuits[\"alt_numeric\"],\n",
    "                              bins = bins_x,\n",
    "                              right = True,\n",
    "                              labels = labels_x)\n",
    "circuits[\"bins_alt\"]\n",
    "\n",
    "# Note: if we set bins_x = [float(\"-inf\"),2500, float(\"inf\")]\n",
    "#       then intervals are \"Less than or equal to 2500\" and \"Above 2500\"\n",
    "#       float(\"inf\") and float(\"-inf\") represent infinity and negative infinity\n",
    "#       The \"right\" command indicates that the right interval is\n",
    "#       \"less than or equal to\""
   ]
  },
  {
   "attachments": {},
   "cell_type": "markdown",
   "metadata": {},
   "source": [
    "<font size = \"5\">\n",
    "Try it yourself!\n",
    "\n",
    "- Create a new variable \"hemisphere\"\n",
    "- Encode lattitude in (-90 and 0] as \"south\"\n",
    "- Encode lattitude in (0 and 90] as \"north\""
   ]
  },
  {
   "cell_type": "code",
   "execution_count": 53,
   "metadata": {},
   "outputs": [
    {
     "data": {
      "text/html": [
       "<div>\n",
       "<style scoped>\n",
       "    .dataframe tbody tr th:only-of-type {\n",
       "        vertical-align: middle;\n",
       "    }\n",
       "\n",
       "    .dataframe tbody tr th {\n",
       "        vertical-align: top;\n",
       "    }\n",
       "\n",
       "    .dataframe thead th {\n",
       "        text-align: right;\n",
       "    }\n",
       "</style>\n",
       "<table border=\"1\" class=\"dataframe\">\n",
       "  <thead>\n",
       "    <tr style=\"text-align: right;\">\n",
       "      <th></th>\n",
       "      <th>lat</th>\n",
       "      <th>hemisphere</th>\n",
       "    </tr>\n",
       "  </thead>\n",
       "  <tbody>\n",
       "    <tr>\n",
       "      <th>0</th>\n",
       "      <td>-37.84970</td>\n",
       "      <td>South</td>\n",
       "    </tr>\n",
       "    <tr>\n",
       "      <th>1</th>\n",
       "      <td>2.76083</td>\n",
       "      <td>North</td>\n",
       "    </tr>\n",
       "    <tr>\n",
       "      <th>2</th>\n",
       "      <td>26.03250</td>\n",
       "      <td>North</td>\n",
       "    </tr>\n",
       "    <tr>\n",
       "      <th>3</th>\n",
       "      <td>41.57000</td>\n",
       "      <td>North</td>\n",
       "    </tr>\n",
       "    <tr>\n",
       "      <th>4</th>\n",
       "      <td>40.95170</td>\n",
       "      <td>North</td>\n",
       "    </tr>\n",
       "    <tr>\n",
       "      <th>...</th>\n",
       "      <td>...</td>\n",
       "      <td>...</td>\n",
       "    </tr>\n",
       "    <tr>\n",
       "      <th>72</th>\n",
       "      <td>37.22700</td>\n",
       "      <td>North</td>\n",
       "    </tr>\n",
       "    <tr>\n",
       "      <th>73</th>\n",
       "      <td>43.99750</td>\n",
       "      <td>North</td>\n",
       "    </tr>\n",
       "    <tr>\n",
       "      <th>74</th>\n",
       "      <td>21.63190</td>\n",
       "      <td>North</td>\n",
       "    </tr>\n",
       "    <tr>\n",
       "      <th>75</th>\n",
       "      <td>25.49000</td>\n",
       "      <td>North</td>\n",
       "    </tr>\n",
       "    <tr>\n",
       "      <th>76</th>\n",
       "      <td>25.95810</td>\n",
       "      <td>North</td>\n",
       "    </tr>\n",
       "  </tbody>\n",
       "</table>\n",
       "<p>77 rows × 2 columns</p>\n",
       "</div>"
      ],
      "text/plain": [
       "         lat hemisphere\n",
       "0  -37.84970      South\n",
       "1    2.76083      North\n",
       "2   26.03250      North\n",
       "3   41.57000      North\n",
       "4   40.95170      North\n",
       "..       ...        ...\n",
       "72  37.22700      North\n",
       "73  43.99750      North\n",
       "74  21.63190      North\n",
       "75  25.49000      North\n",
       "76  25.95810      North\n",
       "\n",
       "[77 rows x 2 columns]"
      ]
     },
     "execution_count": 53,
     "metadata": {},
     "output_type": "execute_result"
    }
   ],
   "source": [
    "\n",
    "# Write your own code\n",
    "circuits[\"hemisphere\"] = pd.cut(circuits[\"lat\"],\n",
    "                                bins= [-90, 0, 90],\n",
    "                                labels=[\"South\", \"North\"],\n",
    "                                right = True)\n",
    "circuits[[\"lat\", \"hemisphere\"]]"
   ]
  },
  {
   "cell_type": "code",
   "execution_count": null,
   "metadata": {},
   "outputs": [],
   "source": []
  }
 ],
 "metadata": {
  "kernelspec": {
   "display_name": "Python 3",
   "language": "python",
   "name": "python3"
  },
  "language_info": {
   "codemirror_mode": {
    "name": "ipython",
    "version": 3
   },
   "file_extension": ".py",
   "mimetype": "text/x-python",
   "name": "python",
   "nbconvert_exporter": "python",
   "pygments_lexer": "ipython3",
   "version": "3.9.13"
  },
  "orig_nbformat": 4,
  "vscode": {
   "interpreter": {
    "hash": "3c4b73e0e8dd62406db597d2876ccde5a85702bfee60e99d4a8987331e84dcea"
   }
  }
 },
 "nbformat": 4,
 "nbformat_minor": 2
}
